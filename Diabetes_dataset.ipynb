{
  "nbformat": 4,
  "nbformat_minor": 0,
  "metadata": {
    "colab": {
      "name": "Diabetes dataset.ipynb",
      "provenance": [],
      "authorship_tag": "ABX9TyNGowP5VAJO4LHN6xpKNZSH",
      "include_colab_link": true
    },
    "kernelspec": {
      "name": "python3",
      "display_name": "Python 3"
    },
    "language_info": {
      "name": "python"
    }
  },
  "cells": [
    {
      "cell_type": "markdown",
      "metadata": {
        "id": "view-in-github",
        "colab_type": "text"
      },
      "source": [
        "<a href=\"https://colab.research.google.com/github/illiyas-sha/Colab-Notebook/blob/main/Diabetes_dataset.ipynb\" target=\"_parent\"><img src=\"https://colab.research.google.com/assets/colab-badge.svg\" alt=\"Open In Colab\"/></a>"
      ]
    },
    {
      "cell_type": "markdown",
      "metadata": {
        "id": "3K1BbIwPveap"
      },
      "source": [
        "## Importing data from kaggle"
      ]
    },
    {
      "cell_type": "code",
      "metadata": {
        "id": "TlXj346HjeHC"
      },
      "source": [
        " ! pip install -q kaggle\n",
        " "
      ],
      "execution_count": null,
      "outputs": []
    },
    {
      "cell_type": "code",
      "metadata": {
        "id": "Z6SCedOTkTA3"
      },
      "source": [
        "from google.colab import files\n",
        "\n",
        "files.upload()"
      ],
      "execution_count": null,
      "outputs": []
    },
    {
      "cell_type": "code",
      "metadata": {
        "id": "ZHyzKlCcketH"
      },
      "source": [
        "! mkdir ~/.kaggle\n",
        "\n",
        "! cp kaggle.json ~/.kaggle/"
      ],
      "execution_count": null,
      "outputs": []
    },
    {
      "cell_type": "code",
      "metadata": {
        "id": "YSHHY3HzksZc"
      },
      "source": [
        "! chmod 600 ~/.kaggle/kaggle.json"
      ],
      "execution_count": null,
      "outputs": []
    },
    {
      "cell_type": "code",
      "metadata": {
        "id": "LoolqlgzkwFQ"
      },
      "source": [
        " ! kaggle datasets list"
      ],
      "execution_count": null,
      "outputs": []
    },
    {
      "cell_type": "code",
      "metadata": {
        "id": "eiyeso0VleCg",
        "colab": {
          "base_uri": "https://localhost:8080/"
        },
        "outputId": "1647f4ab-fc8d-44fd-bdea-fc14019c1f82"
      },
      "source": [
        "! kaggle datasets download -d vikasukani/diabetes-data-set"
      ],
      "execution_count": null,
      "outputs": [
        {
          "output_type": "stream",
          "name": "stdout",
          "text": [
            "Downloading diabetes-data-set.zip to /content\n",
            "\r  0% 0.00/12.1k [00:00<?, ?B/s]\n",
            "\r100% 12.1k/12.1k [00:00<00:00, 24.3MB/s]\n"
          ]
        }
      ]
    },
    {
      "cell_type": "code",
      "metadata": {
        "id": "MC1d1Cv8l8gn",
        "colab": {
          "base_uri": "https://localhost:8080/"
        },
        "outputId": "ee6007df-fbab-4168-d94e-70de091426b0"
      },
      "source": [
        "ls"
      ],
      "execution_count": null,
      "outputs": [
        {
          "output_type": "stream",
          "name": "stdout",
          "text": [
            "diabetes-data-set.zip  kaggle.json  \u001b[0m\u001b[01;34msample_data\u001b[0m/\n"
          ]
        }
      ]
    },
    {
      "cell_type": "code",
      "metadata": {
        "id": "uc-RQOyLmf5o",
        "colab": {
          "base_uri": "https://localhost:8080/"
        },
        "outputId": "0823e639-6d1f-4cce-a3b3-175683f7e685"
      },
      "source": [
        "!unzip diabetes-data-set.zip  && rm diabetes-data-set.zip"
      ],
      "execution_count": null,
      "outputs": [
        {
          "output_type": "stream",
          "name": "stdout",
          "text": [
            "Archive:  diabetes-data-set.zip\n",
            "  inflating: diabetes-dataset.csv    \n"
          ]
        }
      ]
    },
    {
      "cell_type": "markdown",
      "metadata": {
        "id": "wsxsQaSQwFTq"
      },
      "source": [
        "## Loading Data"
      ]
    },
    {
      "cell_type": "code",
      "metadata": {
        "id": "BcG-vI9swR4x"
      },
      "source": [
        "import pandas as pd"
      ],
      "execution_count": null,
      "outputs": []
    },
    {
      "cell_type": "code",
      "metadata": {
        "id": "PxGK_NauwHxG"
      },
      "source": [
        "df = pd.read_csv('/content/diabetes-dataset.csv')"
      ],
      "execution_count": null,
      "outputs": []
    },
    {
      "cell_type": "code",
      "metadata": {
        "colab": {
          "base_uri": "https://localhost:8080/",
          "height": 205
        },
        "id": "4jBx-G1EwXkg",
        "outputId": "6c279a46-5637-480d-998d-8c73a522af81"
      },
      "source": [
        "df.head()"
      ],
      "execution_count": null,
      "outputs": [
        {
          "output_type": "execute_result",
          "data": {
            "text/html": [
              "<div>\n",
              "<style scoped>\n",
              "    .dataframe tbody tr th:only-of-type {\n",
              "        vertical-align: middle;\n",
              "    }\n",
              "\n",
              "    .dataframe tbody tr th {\n",
              "        vertical-align: top;\n",
              "    }\n",
              "\n",
              "    .dataframe thead th {\n",
              "        text-align: right;\n",
              "    }\n",
              "</style>\n",
              "<table border=\"1\" class=\"dataframe\">\n",
              "  <thead>\n",
              "    <tr style=\"text-align: right;\">\n",
              "      <th></th>\n",
              "      <th>Pregnancies</th>\n",
              "      <th>Glucose</th>\n",
              "      <th>BloodPressure</th>\n",
              "      <th>SkinThickness</th>\n",
              "      <th>Insulin</th>\n",
              "      <th>BMI</th>\n",
              "      <th>DiabetesPedigreeFunction</th>\n",
              "      <th>Age</th>\n",
              "      <th>Outcome</th>\n",
              "    </tr>\n",
              "  </thead>\n",
              "  <tbody>\n",
              "    <tr>\n",
              "      <th>0</th>\n",
              "      <td>2</td>\n",
              "      <td>138</td>\n",
              "      <td>62</td>\n",
              "      <td>35</td>\n",
              "      <td>0</td>\n",
              "      <td>33.6</td>\n",
              "      <td>0.127</td>\n",
              "      <td>47</td>\n",
              "      <td>1</td>\n",
              "    </tr>\n",
              "    <tr>\n",
              "      <th>1</th>\n",
              "      <td>0</td>\n",
              "      <td>84</td>\n",
              "      <td>82</td>\n",
              "      <td>31</td>\n",
              "      <td>125</td>\n",
              "      <td>38.2</td>\n",
              "      <td>0.233</td>\n",
              "      <td>23</td>\n",
              "      <td>0</td>\n",
              "    </tr>\n",
              "    <tr>\n",
              "      <th>2</th>\n",
              "      <td>0</td>\n",
              "      <td>145</td>\n",
              "      <td>0</td>\n",
              "      <td>0</td>\n",
              "      <td>0</td>\n",
              "      <td>44.2</td>\n",
              "      <td>0.630</td>\n",
              "      <td>31</td>\n",
              "      <td>1</td>\n",
              "    </tr>\n",
              "    <tr>\n",
              "      <th>3</th>\n",
              "      <td>0</td>\n",
              "      <td>135</td>\n",
              "      <td>68</td>\n",
              "      <td>42</td>\n",
              "      <td>250</td>\n",
              "      <td>42.3</td>\n",
              "      <td>0.365</td>\n",
              "      <td>24</td>\n",
              "      <td>1</td>\n",
              "    </tr>\n",
              "    <tr>\n",
              "      <th>4</th>\n",
              "      <td>1</td>\n",
              "      <td>139</td>\n",
              "      <td>62</td>\n",
              "      <td>41</td>\n",
              "      <td>480</td>\n",
              "      <td>40.7</td>\n",
              "      <td>0.536</td>\n",
              "      <td>21</td>\n",
              "      <td>0</td>\n",
              "    </tr>\n",
              "  </tbody>\n",
              "</table>\n",
              "</div>"
            ],
            "text/plain": [
              "   Pregnancies  Glucose  BloodPressure  ...  DiabetesPedigreeFunction  Age  Outcome\n",
              "0            2      138             62  ...                     0.127   47        1\n",
              "1            0       84             82  ...                     0.233   23        0\n",
              "2            0      145              0  ...                     0.630   31        1\n",
              "3            0      135             68  ...                     0.365   24        1\n",
              "4            1      139             62  ...                     0.536   21        0\n",
              "\n",
              "[5 rows x 9 columns]"
            ]
          },
          "metadata": {},
          "execution_count": 13
        }
      ]
    },
    {
      "cell_type": "code",
      "metadata": {
        "colab": {
          "base_uri": "https://localhost:8080/"
        },
        "id": "NnxFxj5YxEjq",
        "outputId": "49214536-400c-4de4-fe9a-ae3677c86564"
      },
      "source": [
        "df.shape"
      ],
      "execution_count": null,
      "outputs": [
        {
          "output_type": "execute_result",
          "data": {
            "text/plain": [
              "(2000, 9)"
            ]
          },
          "metadata": {},
          "execution_count": 20
        }
      ]
    },
    {
      "cell_type": "code",
      "metadata": {
        "colab": {
          "base_uri": "https://localhost:8080/"
        },
        "id": "06ZCBV9dwa3p",
        "outputId": "d923e426-f880-4f1d-e1ce-eb74f3db4307"
      },
      "source": [
        "df.info()"
      ],
      "execution_count": null,
      "outputs": [
        {
          "output_type": "stream",
          "name": "stdout",
          "text": [
            "<class 'pandas.core.frame.DataFrame'>\n",
            "RangeIndex: 2000 entries, 0 to 1999\n",
            "Data columns (total 9 columns):\n",
            " #   Column                    Non-Null Count  Dtype  \n",
            "---  ------                    --------------  -----  \n",
            " 0   Pregnancies               2000 non-null   int64  \n",
            " 1   Glucose                   2000 non-null   int64  \n",
            " 2   BloodPressure             2000 non-null   int64  \n",
            " 3   SkinThickness             2000 non-null   int64  \n",
            " 4   Insulin                   2000 non-null   int64  \n",
            " 5   BMI                       2000 non-null   float64\n",
            " 6   DiabetesPedigreeFunction  2000 non-null   float64\n",
            " 7   Age                       2000 non-null   int64  \n",
            " 8   Outcome                   2000 non-null   int64  \n",
            "dtypes: float64(2), int64(7)\n",
            "memory usage: 140.8 KB\n"
          ]
        }
      ]
    },
    {
      "cell_type": "code",
      "metadata": {
        "colab": {
          "base_uri": "https://localhost:8080/"
        },
        "id": "_QqZWxaTwmmH",
        "outputId": "d8e10024-d9ae-47b9-b2db-004ce3e29810"
      },
      "source": [
        "df.isnull().sum()"
      ],
      "execution_count": null,
      "outputs": [
        {
          "output_type": "execute_result",
          "data": {
            "text/plain": [
              "Pregnancies                 0\n",
              "Glucose                     0\n",
              "BloodPressure               0\n",
              "SkinThickness               0\n",
              "Insulin                     0\n",
              "BMI                         0\n",
              "DiabetesPedigreeFunction    0\n",
              "Age                         0\n",
              "Outcome                     0\n",
              "dtype: int64"
            ]
          },
          "metadata": {},
          "execution_count": 18
        }
      ]
    },
    {
      "cell_type": "code",
      "metadata": {
        "colab": {
          "base_uri": "https://localhost:8080/"
        },
        "id": "jbn2cw2-xJx3",
        "outputId": "82f98211-4ba6-44a5-e263-6d5b8915993f"
      },
      "source": [
        "print(df.Outcome.value_counts())"
      ],
      "execution_count": null,
      "outputs": [
        {
          "output_type": "stream",
          "name": "stdout",
          "text": [
            "0    1316\n",
            "1     684\n",
            "Name: Outcome, dtype: int64\n"
          ]
        }
      ]
    },
    {
      "cell_type": "code",
      "metadata": {
        "colab": {
          "base_uri": "https://localhost:8080/"
        },
        "id": "uME_TDeVxlON",
        "outputId": "4137c466-ea3c-48a2-a23d-332b9b380339"
      },
      "source": [
        "featureList = ['Glucose', 'BloodPressure',\t'SkinThickness',\t'Insulin',\t'BMI']\n",
        "print(df[featureList].isin({0}).sum())"
      ],
      "execution_count": null,
      "outputs": [
        {
          "output_type": "stream",
          "name": "stdout",
          "text": [
            "Glucose           13\n",
            "BloodPressure     90\n",
            "SkinThickness    573\n",
            "Insulin          956\n",
            "BMI               28\n",
            "dtype: int64\n"
          ]
        }
      ]
    },
    {
      "cell_type": "code",
      "metadata": {
        "id": "2VDLU-8uxqYA"
      },
      "source": [
        "# Set \"0\" to Mean values of perticular columns\n",
        "\n",
        "for col in featureList:\n",
        "  df[col] = df[col].replace({ 0 : df[col].mean() })"
      ],
      "execution_count": null,
      "outputs": []
    },
    {
      "cell_type": "code",
      "metadata": {
        "colab": {
          "base_uri": "https://localhost:8080/"
        },
        "id": "_f7z8gW1x1J8",
        "outputId": "86f3c052-7e93-4aed-c47e-29a166a74a1c"
      },
      "source": [
        "# show \"0\" values count\n",
        "df[featureList].isin({0}).sum()"
      ],
      "execution_count": null,
      "outputs": [
        {
          "output_type": "execute_result",
          "data": {
            "text/plain": [
              "Glucose          0\n",
              "BloodPressure    0\n",
              "SkinThickness    0\n",
              "Insulin          0\n",
              "BMI              0\n",
              "dtype: int64"
            ]
          },
          "metadata": {},
          "execution_count": 26
        }
      ]
    },
    {
      "cell_type": "markdown",
      "metadata": {
        "id": "GLobO_b1x60L"
      },
      "source": [
        "## Feature selection"
      ]
    },
    {
      "cell_type": "code",
      "metadata": {
        "colab": {
          "base_uri": "https://localhost:8080/",
          "height": 205
        },
        "id": "2U5N_Zg1x6Uf",
        "outputId": "9c8153f8-c083-4f26-db21-cc8ab3bdb785"
      },
      "source": [
        "# select feature colulmn\n",
        "feature_columns = df[['Glucose', 'BloodPressure', 'SkinThickness', 'Insulin',\n",
        "       'BMI', 'DiabetesPedigreeFunction', 'Age']]\n",
        "\n",
        "feature_columns.head()"
      ],
      "execution_count": null,
      "outputs": [
        {
          "output_type": "execute_result",
          "data": {
            "text/html": [
              "<div>\n",
              "<style scoped>\n",
              "    .dataframe tbody tr th:only-of-type {\n",
              "        vertical-align: middle;\n",
              "    }\n",
              "\n",
              "    .dataframe tbody tr th {\n",
              "        vertical-align: top;\n",
              "    }\n",
              "\n",
              "    .dataframe thead th {\n",
              "        text-align: right;\n",
              "    }\n",
              "</style>\n",
              "<table border=\"1\" class=\"dataframe\">\n",
              "  <thead>\n",
              "    <tr style=\"text-align: right;\">\n",
              "      <th></th>\n",
              "      <th>Glucose</th>\n",
              "      <th>BloodPressure</th>\n",
              "      <th>SkinThickness</th>\n",
              "      <th>Insulin</th>\n",
              "      <th>BMI</th>\n",
              "      <th>DiabetesPedigreeFunction</th>\n",
              "      <th>Age</th>\n",
              "    </tr>\n",
              "  </thead>\n",
              "  <tbody>\n",
              "    <tr>\n",
              "      <th>0</th>\n",
              "      <td>138.0</td>\n",
              "      <td>62.0000</td>\n",
              "      <td>35.000</td>\n",
              "      <td>80.254</td>\n",
              "      <td>33.6</td>\n",
              "      <td>0.127</td>\n",
              "      <td>47</td>\n",
              "    </tr>\n",
              "    <tr>\n",
              "      <th>1</th>\n",
              "      <td>84.0</td>\n",
              "      <td>82.0000</td>\n",
              "      <td>31.000</td>\n",
              "      <td>125.000</td>\n",
              "      <td>38.2</td>\n",
              "      <td>0.233</td>\n",
              "      <td>23</td>\n",
              "    </tr>\n",
              "    <tr>\n",
              "      <th>2</th>\n",
              "      <td>145.0</td>\n",
              "      <td>69.1455</td>\n",
              "      <td>20.935</td>\n",
              "      <td>80.254</td>\n",
              "      <td>44.2</td>\n",
              "      <td>0.630</td>\n",
              "      <td>31</td>\n",
              "    </tr>\n",
              "    <tr>\n",
              "      <th>3</th>\n",
              "      <td>135.0</td>\n",
              "      <td>68.0000</td>\n",
              "      <td>42.000</td>\n",
              "      <td>250.000</td>\n",
              "      <td>42.3</td>\n",
              "      <td>0.365</td>\n",
              "      <td>24</td>\n",
              "    </tr>\n",
              "    <tr>\n",
              "      <th>4</th>\n",
              "      <td>139.0</td>\n",
              "      <td>62.0000</td>\n",
              "      <td>41.000</td>\n",
              "      <td>480.000</td>\n",
              "      <td>40.7</td>\n",
              "      <td>0.536</td>\n",
              "      <td>21</td>\n",
              "    </tr>\n",
              "  </tbody>\n",
              "</table>\n",
              "</div>"
            ],
            "text/plain": [
              "   Glucose  BloodPressure  SkinThickness  ...   BMI  DiabetesPedigreeFunction  Age\n",
              "0    138.0        62.0000         35.000  ...  33.6                     0.127   47\n",
              "1     84.0        82.0000         31.000  ...  38.2                     0.233   23\n",
              "2    145.0        69.1455         20.935  ...  44.2                     0.630   31\n",
              "3    135.0        68.0000         42.000  ...  42.3                     0.365   24\n",
              "4    139.0        62.0000         41.000  ...  40.7                     0.536   21\n",
              "\n",
              "[5 rows x 7 columns]"
            ]
          },
          "metadata": {},
          "execution_count": 59
        }
      ]
    },
    {
      "cell_type": "code",
      "metadata": {
        "colab": {
          "base_uri": "https://localhost:8080/"
        },
        "id": "6ofzBOoeyGwP",
        "outputId": "f4011dd7-6143-49de-be1b-c5d6e259b033"
      },
      "source": [
        "# Outcome colummn\n",
        "outcome_column = df['Outcome']\n",
        "outcome_column.head()"
      ],
      "execution_count": null,
      "outputs": [
        {
          "output_type": "execute_result",
          "data": {
            "text/plain": [
              "0    1\n",
              "1    0\n",
              "2    1\n",
              "3    1\n",
              "4    0\n",
              "Name: Outcome, dtype: int64"
            ]
          },
          "metadata": {},
          "execution_count": 60
        }
      ]
    },
    {
      "cell_type": "code",
      "metadata": {
        "id": "VfZOqzvl2MqK"
      },
      "source": [
        "# import package\n",
        "\n",
        "from sklearn.model_selection import train_test_split\n",
        "\n",
        "# split into training and testing sets\n",
        "\n",
        "X_train, X_test, y_train, y_test = train_test_split(feature_columns, outcome_column, test_size=0.2, random_state=5) "
      ],
      "execution_count": null,
      "outputs": []
    },
    {
      "cell_type": "code",
      "metadata": {
        "id": "l69k8B4T4Qy5"
      },
      "source": [
        "training_data = X_train"
      ],
      "execution_count": null,
      "outputs": []
    },
    {
      "cell_type": "code",
      "metadata": {
        "colab": {
          "base_uri": "https://localhost:8080/"
        },
        "id": "S8p6mYri75pk",
        "outputId": "087d54b6-22a5-4dbc-eb63-827fb656e67c"
      },
      "source": [
        "training_data['outcome'] = y_train.values"
      ],
      "execution_count": null,
      "outputs": [
        {
          "output_type": "stream",
          "name": "stderr",
          "text": [
            "/usr/local/lib/python3.7/dist-packages/ipykernel_launcher.py:1: SettingWithCopyWarning: \n",
            "A value is trying to be set on a copy of a slice from a DataFrame.\n",
            "Try using .loc[row_indexer,col_indexer] = value instead\n",
            "\n",
            "See the caveats in the documentation: https://pandas.pydata.org/pandas-docs/stable/user_guide/indexing.html#returning-a-view-versus-a-copy\n",
            "  \"\"\"Entry point for launching an IPython kernel.\n"
          ]
        }
      ]
    },
    {
      "cell_type": "code",
      "metadata": {
        "colab": {
          "base_uri": "https://localhost:8080/",
          "height": 422
        },
        "id": "cNkgo17l8dOU",
        "outputId": "5eea28d0-0b04-4b40-d0cf-2f5f42ff0907"
      },
      "source": [
        "training_data"
      ],
      "execution_count": null,
      "outputs": [
        {
          "output_type": "execute_result",
          "data": {
            "text/html": [
              "<div>\n",
              "<style scoped>\n",
              "    .dataframe tbody tr th:only-of-type {\n",
              "        vertical-align: middle;\n",
              "    }\n",
              "\n",
              "    .dataframe tbody tr th {\n",
              "        vertical-align: top;\n",
              "    }\n",
              "\n",
              "    .dataframe thead th {\n",
              "        text-align: right;\n",
              "    }\n",
              "</style>\n",
              "<table border=\"1\" class=\"dataframe\">\n",
              "  <thead>\n",
              "    <tr style=\"text-align: right;\">\n",
              "      <th></th>\n",
              "      <th>Glucose</th>\n",
              "      <th>BloodPressure</th>\n",
              "      <th>SkinThickness</th>\n",
              "      <th>Insulin</th>\n",
              "      <th>BMI</th>\n",
              "      <th>DiabetesPedigreeFunction</th>\n",
              "      <th>Age</th>\n",
              "      <th>outcome</th>\n",
              "    </tr>\n",
              "  </thead>\n",
              "  <tbody>\n",
              "    <tr>\n",
              "      <th>1176</th>\n",
              "      <td>97.0</td>\n",
              "      <td>76.0</td>\n",
              "      <td>27.000</td>\n",
              "      <td>80.254</td>\n",
              "      <td>35.6</td>\n",
              "      <td>0.378</td>\n",
              "      <td>52</td>\n",
              "      <td>1</td>\n",
              "    </tr>\n",
              "    <tr>\n",
              "      <th>1128</th>\n",
              "      <td>99.0</td>\n",
              "      <td>58.0</td>\n",
              "      <td>10.000</td>\n",
              "      <td>80.254</td>\n",
              "      <td>25.4</td>\n",
              "      <td>0.551</td>\n",
              "      <td>21</td>\n",
              "      <td>0</td>\n",
              "    </tr>\n",
              "    <tr>\n",
              "      <th>184</th>\n",
              "      <td>141.0</td>\n",
              "      <td>74.0</td>\n",
              "      <td>20.935</td>\n",
              "      <td>80.254</td>\n",
              "      <td>27.6</td>\n",
              "      <td>0.244</td>\n",
              "      <td>40</td>\n",
              "      <td>0</td>\n",
              "    </tr>\n",
              "    <tr>\n",
              "      <th>1807</th>\n",
              "      <td>97.0</td>\n",
              "      <td>76.0</td>\n",
              "      <td>27.000</td>\n",
              "      <td>80.254</td>\n",
              "      <td>35.6</td>\n",
              "      <td>0.378</td>\n",
              "      <td>52</td>\n",
              "      <td>1</td>\n",
              "    </tr>\n",
              "    <tr>\n",
              "      <th>35</th>\n",
              "      <td>103.0</td>\n",
              "      <td>60.0</td>\n",
              "      <td>33.000</td>\n",
              "      <td>192.000</td>\n",
              "      <td>24.0</td>\n",
              "      <td>0.966</td>\n",
              "      <td>33</td>\n",
              "      <td>0</td>\n",
              "    </tr>\n",
              "    <tr>\n",
              "      <th>...</th>\n",
              "      <td>...</td>\n",
              "      <td>...</td>\n",
              "      <td>...</td>\n",
              "      <td>...</td>\n",
              "      <td>...</td>\n",
              "      <td>...</td>\n",
              "      <td>...</td>\n",
              "      <td>...</td>\n",
              "    </tr>\n",
              "    <tr>\n",
              "      <th>1142</th>\n",
              "      <td>129.0</td>\n",
              "      <td>74.0</td>\n",
              "      <td>26.000</td>\n",
              "      <td>205.000</td>\n",
              "      <td>33.2</td>\n",
              "      <td>0.591</td>\n",
              "      <td>25</td>\n",
              "      <td>0</td>\n",
              "    </tr>\n",
              "    <tr>\n",
              "      <th>998</th>\n",
              "      <td>128.0</td>\n",
              "      <td>72.0</td>\n",
              "      <td>25.000</td>\n",
              "      <td>190.000</td>\n",
              "      <td>32.4</td>\n",
              "      <td>0.549</td>\n",
              "      <td>27</td>\n",
              "      <td>1</td>\n",
              "    </tr>\n",
              "    <tr>\n",
              "      <th>1725</th>\n",
              "      <td>94.0</td>\n",
              "      <td>76.0</td>\n",
              "      <td>18.000</td>\n",
              "      <td>66.000</td>\n",
              "      <td>31.6</td>\n",
              "      <td>0.649</td>\n",
              "      <td>23</td>\n",
              "      <td>0</td>\n",
              "    </tr>\n",
              "    <tr>\n",
              "      <th>206</th>\n",
              "      <td>196.0</td>\n",
              "      <td>76.0</td>\n",
              "      <td>29.000</td>\n",
              "      <td>280.000</td>\n",
              "      <td>37.5</td>\n",
              "      <td>0.605</td>\n",
              "      <td>57</td>\n",
              "      <td>1</td>\n",
              "    </tr>\n",
              "    <tr>\n",
              "      <th>867</th>\n",
              "      <td>131.0</td>\n",
              "      <td>66.0</td>\n",
              "      <td>40.000</td>\n",
              "      <td>80.254</td>\n",
              "      <td>34.3</td>\n",
              "      <td>0.196</td>\n",
              "      <td>22</td>\n",
              "      <td>1</td>\n",
              "    </tr>\n",
              "  </tbody>\n",
              "</table>\n",
              "<p>1600 rows × 8 columns</p>\n",
              "</div>"
            ],
            "text/plain": [
              "      Glucose  BloodPressure  ...  Age  outcome\n",
              "1176     97.0           76.0  ...   52        1\n",
              "1128     99.0           58.0  ...   21        0\n",
              "184     141.0           74.0  ...   40        0\n",
              "1807     97.0           76.0  ...   52        1\n",
              "35      103.0           60.0  ...   33        0\n",
              "...       ...            ...  ...  ...      ...\n",
              "1142    129.0           74.0  ...   25        0\n",
              "998     128.0           72.0  ...   27        1\n",
              "1725     94.0           76.0  ...   23        0\n",
              "206     196.0           76.0  ...   57        1\n",
              "867     131.0           66.0  ...   22        1\n",
              "\n",
              "[1600 rows x 8 columns]"
            ]
          },
          "metadata": {},
          "execution_count": 93
        }
      ]
    },
    {
      "cell_type": "code",
      "metadata": {
        "id": "oei6hYYB8GKj"
      },
      "source": [
        "test_data = X_test"
      ],
      "execution_count": null,
      "outputs": []
    },
    {
      "cell_type": "code",
      "metadata": {
        "colab": {
          "base_uri": "https://localhost:8080/"
        },
        "id": "Hf66Yvy-68S7",
        "outputId": "af602c30-9764-49bb-b5a6-506339e004ba"
      },
      "source": [
        "test_data['outcome'] = y_test.values"
      ],
      "execution_count": null,
      "outputs": [
        {
          "output_type": "stream",
          "name": "stderr",
          "text": [
            "/usr/local/lib/python3.7/dist-packages/ipykernel_launcher.py:1: SettingWithCopyWarning: \n",
            "A value is trying to be set on a copy of a slice from a DataFrame.\n",
            "Try using .loc[row_indexer,col_indexer] = value instead\n",
            "\n",
            "See the caveats in the documentation: https://pandas.pydata.org/pandas-docs/stable/user_guide/indexing.html#returning-a-view-versus-a-copy\n",
            "  \"\"\"Entry point for launching an IPython kernel.\n"
          ]
        }
      ]
    },
    {
      "cell_type": "code",
      "metadata": {
        "colab": {
          "base_uri": "https://localhost:8080/",
          "height": 422
        },
        "id": "vaLpneg35wWu",
        "outputId": "a0f44cc2-0537-48d7-f9ee-ebfe51ad55a8"
      },
      "source": [
        "test_data"
      ],
      "execution_count": null,
      "outputs": [
        {
          "output_type": "execute_result",
          "data": {
            "text/html": [
              "<div>\n",
              "<style scoped>\n",
              "    .dataframe tbody tr th:only-of-type {\n",
              "        vertical-align: middle;\n",
              "    }\n",
              "\n",
              "    .dataframe tbody tr th {\n",
              "        vertical-align: top;\n",
              "    }\n",
              "\n",
              "    .dataframe thead th {\n",
              "        text-align: right;\n",
              "    }\n",
              "</style>\n",
              "<table border=\"1\" class=\"dataframe\">\n",
              "  <thead>\n",
              "    <tr style=\"text-align: right;\">\n",
              "      <th></th>\n",
              "      <th>Glucose</th>\n",
              "      <th>BloodPressure</th>\n",
              "      <th>SkinThickness</th>\n",
              "      <th>Insulin</th>\n",
              "      <th>BMI</th>\n",
              "      <th>DiabetesPedigreeFunction</th>\n",
              "      <th>Age</th>\n",
              "      <th>outcome</th>\n",
              "    </tr>\n",
              "  </thead>\n",
              "  <tbody>\n",
              "    <tr>\n",
              "      <th>51</th>\n",
              "      <td>101.0</td>\n",
              "      <td>50.0</td>\n",
              "      <td>15.000</td>\n",
              "      <td>36.000</td>\n",
              "      <td>24.2</td>\n",
              "      <td>0.526</td>\n",
              "      <td>26</td>\n",
              "      <td>0</td>\n",
              "    </tr>\n",
              "    <tr>\n",
              "      <th>1327</th>\n",
              "      <td>111.0</td>\n",
              "      <td>90.0</td>\n",
              "      <td>12.000</td>\n",
              "      <td>78.000</td>\n",
              "      <td>28.4</td>\n",
              "      <td>0.495</td>\n",
              "      <td>29</td>\n",
              "      <td>0</td>\n",
              "    </tr>\n",
              "    <tr>\n",
              "      <th>1488</th>\n",
              "      <td>95.0</td>\n",
              "      <td>82.0</td>\n",
              "      <td>25.000</td>\n",
              "      <td>180.000</td>\n",
              "      <td>35.0</td>\n",
              "      <td>0.233</td>\n",
              "      <td>43</td>\n",
              "      <td>1</td>\n",
              "    </tr>\n",
              "    <tr>\n",
              "      <th>1432</th>\n",
              "      <td>106.0</td>\n",
              "      <td>70.0</td>\n",
              "      <td>20.935</td>\n",
              "      <td>80.254</td>\n",
              "      <td>34.2</td>\n",
              "      <td>0.251</td>\n",
              "      <td>52</td>\n",
              "      <td>0</td>\n",
              "    </tr>\n",
              "    <tr>\n",
              "      <th>417</th>\n",
              "      <td>144.0</td>\n",
              "      <td>82.0</td>\n",
              "      <td>32.000</td>\n",
              "      <td>80.254</td>\n",
              "      <td>38.5</td>\n",
              "      <td>0.554</td>\n",
              "      <td>37</td>\n",
              "      <td>1</td>\n",
              "    </tr>\n",
              "    <tr>\n",
              "      <th>...</th>\n",
              "      <td>...</td>\n",
              "      <td>...</td>\n",
              "      <td>...</td>\n",
              "      <td>...</td>\n",
              "      <td>...</td>\n",
              "      <td>...</td>\n",
              "      <td>...</td>\n",
              "      <td>...</td>\n",
              "    </tr>\n",
              "    <tr>\n",
              "      <th>1251</th>\n",
              "      <td>112.0</td>\n",
              "      <td>75.0</td>\n",
              "      <td>32.000</td>\n",
              "      <td>80.254</td>\n",
              "      <td>35.7</td>\n",
              "      <td>0.148</td>\n",
              "      <td>21</td>\n",
              "      <td>0</td>\n",
              "    </tr>\n",
              "    <tr>\n",
              "      <th>275</th>\n",
              "      <td>100.0</td>\n",
              "      <td>70.0</td>\n",
              "      <td>52.000</td>\n",
              "      <td>57.000</td>\n",
              "      <td>40.5</td>\n",
              "      <td>0.677</td>\n",
              "      <td>25</td>\n",
              "      <td>0</td>\n",
              "    </tr>\n",
              "    <tr>\n",
              "      <th>1114</th>\n",
              "      <td>120.0</td>\n",
              "      <td>80.0</td>\n",
              "      <td>48.000</td>\n",
              "      <td>200.000</td>\n",
              "      <td>38.9</td>\n",
              "      <td>1.162</td>\n",
              "      <td>41</td>\n",
              "      <td>0</td>\n",
              "    </tr>\n",
              "    <tr>\n",
              "      <th>1751</th>\n",
              "      <td>145.0</td>\n",
              "      <td>80.0</td>\n",
              "      <td>46.000</td>\n",
              "      <td>130.000</td>\n",
              "      <td>37.9</td>\n",
              "      <td>0.637</td>\n",
              "      <td>40</td>\n",
              "      <td>1</td>\n",
              "    </tr>\n",
              "    <tr>\n",
              "      <th>72</th>\n",
              "      <td>126.0</td>\n",
              "      <td>90.0</td>\n",
              "      <td>20.935</td>\n",
              "      <td>80.254</td>\n",
              "      <td>43.4</td>\n",
              "      <td>0.583</td>\n",
              "      <td>42</td>\n",
              "      <td>1</td>\n",
              "    </tr>\n",
              "  </tbody>\n",
              "</table>\n",
              "<p>400 rows × 8 columns</p>\n",
              "</div>"
            ],
            "text/plain": [
              "      Glucose  BloodPressure  ...  Age  outcome\n",
              "51      101.0           50.0  ...   26        0\n",
              "1327    111.0           90.0  ...   29        0\n",
              "1488     95.0           82.0  ...   43        1\n",
              "1432    106.0           70.0  ...   52        0\n",
              "417     144.0           82.0  ...   37        1\n",
              "...       ...            ...  ...  ...      ...\n",
              "1251    112.0           75.0  ...   21        0\n",
              "275     100.0           70.0  ...   25        0\n",
              "1114    120.0           80.0  ...   41        0\n",
              "1751    145.0           80.0  ...   40        1\n",
              "72      126.0           90.0  ...   42        1\n",
              "\n",
              "[400 rows x 8 columns]"
            ]
          },
          "metadata": {},
          "execution_count": 100
        }
      ]
    },
    {
      "cell_type": "code",
      "metadata": {
        "id": "c9Vx5nP-87Hy"
      },
      "source": [
        "training_data.to_csv(\"Training_data.csv\")"
      ],
      "execution_count": null,
      "outputs": []
    },
    {
      "cell_type": "code",
      "metadata": {
        "id": "d6pqPZIQ9F07"
      },
      "source": [
        "test_data.to_csv(\"Test_data.csv\")"
      ],
      "execution_count": null,
      "outputs": []
    },
    {
      "cell_type": "code",
      "metadata": {
        "colab": {
          "base_uri": "https://localhost:8080/"
        },
        "id": "VybOfDs13vlb",
        "outputId": "702b77fa-b4ba-46d7-bdbe-ed08af13b899"
      },
      "source": [
        "# show train data and shapes\n",
        "\n",
        "print(X_train.shape)\n",
        "print(X_test.shape)\n",
        "print(y_train.shape)\n",
        "print(y_test.shape)"
      ],
      "execution_count": null,
      "outputs": [
        {
          "output_type": "stream",
          "name": "stdout",
          "text": [
            "(1600, 7)\n",
            "(400, 7)\n",
            "(1600,)\n",
            "(400,)\n"
          ]
        }
      ]
    }
  ]
}