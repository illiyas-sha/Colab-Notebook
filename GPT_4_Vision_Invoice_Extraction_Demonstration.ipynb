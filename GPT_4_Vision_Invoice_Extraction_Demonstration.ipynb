{
  "nbformat": 4,
  "nbformat_minor": 0,
  "metadata": {
    "colab": {
      "provenance": [],
      "authorship_tag": "ABX9TyOeWWwOStiO0aurXyuUOL5X"
    },
    "kernelspec": {
      "name": "python3",
      "display_name": "Python 3"
    },
    "language_info": {
      "name": "python"
    }
  },
  "cells": [
    {
      "cell_type": "code",
      "execution_count": 2,
      "metadata": {
        "colab": {
          "base_uri": "https://localhost:8080/"
        },
        "id": "S0251qT-kKbS",
        "outputId": "ca8a2956-927c-4920-f489-9fdff1d94a8c"
      },
      "outputs": [
        {
          "output_type": "stream",
          "name": "stdout",
          "text": [
            "Collecting openai\n",
            "  Downloading openai-1.3.9-py3-none-any.whl (221 kB)\n",
            "\u001b[2K     \u001b[90m━━━━━━━━━━━━━━━━━━━━━━━━━━━━━━━━━━━━━━━━\u001b[0m \u001b[32m221.4/221.4 kB\u001b[0m \u001b[31m1.9 MB/s\u001b[0m eta \u001b[36m0:00:00\u001b[0m\n",
            "\u001b[?25hRequirement already satisfied: anyio<5,>=3.5.0 in /usr/local/lib/python3.10/dist-packages (from openai) (3.7.1)\n",
            "Requirement already satisfied: distro<2,>=1.7.0 in /usr/lib/python3/dist-packages (from openai) (1.7.0)\n",
            "Collecting httpx<1,>=0.23.0 (from openai)\n",
            "  Downloading httpx-0.25.2-py3-none-any.whl (74 kB)\n",
            "\u001b[2K     \u001b[90m━━━━━━━━━━━━━━━━━━━━━━━━━━━━━━━━━━━━━━━━\u001b[0m \u001b[32m75.0/75.0 kB\u001b[0m \u001b[31m9.9 MB/s\u001b[0m eta \u001b[36m0:00:00\u001b[0m\n",
            "\u001b[?25hRequirement already satisfied: pydantic<3,>=1.9.0 in /usr/local/lib/python3.10/dist-packages (from openai) (1.10.13)\n",
            "Requirement already satisfied: sniffio in /usr/local/lib/python3.10/dist-packages (from openai) (1.3.0)\n",
            "Requirement already satisfied: tqdm>4 in /usr/local/lib/python3.10/dist-packages (from openai) (4.66.1)\n",
            "Requirement already satisfied: typing-extensions<5,>=4.5 in /usr/local/lib/python3.10/dist-packages (from openai) (4.5.0)\n",
            "Requirement already satisfied: idna>=2.8 in /usr/local/lib/python3.10/dist-packages (from anyio<5,>=3.5.0->openai) (3.6)\n",
            "Requirement already satisfied: exceptiongroup in /usr/local/lib/python3.10/dist-packages (from anyio<5,>=3.5.0->openai) (1.2.0)\n",
            "Requirement already satisfied: certifi in /usr/local/lib/python3.10/dist-packages (from httpx<1,>=0.23.0->openai) (2023.11.17)\n",
            "Collecting httpcore==1.* (from httpx<1,>=0.23.0->openai)\n",
            "  Downloading httpcore-1.0.2-py3-none-any.whl (76 kB)\n",
            "\u001b[2K     \u001b[90m━━━━━━━━━━━━━━━━━━━━━━━━━━━━━━━━━━━━━━━━\u001b[0m \u001b[32m76.9/76.9 kB\u001b[0m \u001b[31m9.9 MB/s\u001b[0m eta \u001b[36m0:00:00\u001b[0m\n",
            "\u001b[?25hCollecting h11<0.15,>=0.13 (from httpcore==1.*->httpx<1,>=0.23.0->openai)\n",
            "  Downloading h11-0.14.0-py3-none-any.whl (58 kB)\n",
            "\u001b[2K     \u001b[90m━━━━━━━━━━━━━━━━━━━━━━━━━━━━━━━━━━━━━━━━\u001b[0m \u001b[32m58.3/58.3 kB\u001b[0m \u001b[31m6.2 MB/s\u001b[0m eta \u001b[36m0:00:00\u001b[0m\n",
            "\u001b[?25hInstalling collected packages: h11, httpcore, httpx, openai\n",
            "\u001b[31mERROR: pip's dependency resolver does not currently take into account all the packages that are installed. This behaviour is the source of the following dependency conflicts.\n",
            "llmx 0.0.15a0 requires cohere, which is not installed.\n",
            "llmx 0.0.15a0 requires tiktoken, which is not installed.\u001b[0m\u001b[31m\n",
            "\u001b[0mSuccessfully installed h11-0.14.0 httpcore-1.0.2 httpx-0.25.2 openai-1.3.9\n"
          ]
        }
      ],
      "source": [
        "! pip install openai"
      ]
    },
    {
      "cell_type": "code",
      "source": [
        "from openai import OpenAI\n"
      ],
      "metadata": {
        "id": "lL7y2456kN5Q"
      },
      "execution_count": 3,
      "outputs": []
    },
    {
      "cell_type": "code",
      "source": [
        "openai_api_key = \"\""
      ],
      "metadata": {
        "id": "fPav7P3gkN2f"
      },
      "execution_count": 1,
      "outputs": []
    },
    {
      "cell_type": "code",
      "source": [
        "client = OpenAI(api_key = openai_api_key)"
      ],
      "metadata": {
        "id": "7pNHcMOKkN0P"
      },
      "execution_count": 4,
      "outputs": []
    },
    {
      "cell_type": "markdown",
      "source": [
        "### Sample"
      ],
      "metadata": {
        "id": "CT5QWRKXkeno"
      }
    },
    {
      "cell_type": "code",
      "source": [
        "response = client.chat.completions.create(\n",
        "    model=\"gpt-4-vision-preview\",\n",
        "    messages=[\n",
        "        {\n",
        "            \"role\": \"user\",\n",
        "            \"content\": [\n",
        "                {\"type\": \"text\", \"text\": \"What’s in this image?\"},\n",
        "                {\n",
        "                    \"type\": \"image_url\",\n",
        "                    \"image_url\": \"https://upload.wikimedia.org/wikipedia/commons/thumb/d/dd/Gfp-wisconsin-madison-the-nature-boardwalk.jpg/2560px-Gfp-wisconsin-madison-the-nature-boardwalk.jpg\",\n",
        "                },\n",
        "            ],\n",
        "        }\n",
        "    ],\n",
        "    max_tokens=300,\n",
        ")"
      ],
      "metadata": {
        "id": "Lq5Bpw11kNxg"
      },
      "execution_count": 5,
      "outputs": []
    },
    {
      "cell_type": "code",
      "source": [
        "print(response.choices[0])"
      ],
      "metadata": {
        "colab": {
          "base_uri": "https://localhost:8080/"
        },
        "id": "Wer-k0zRkNuR",
        "outputId": "411c6c6e-8324-4b6e-c13b-48f57b20fc3e"
      },
      "execution_count": 6,
      "outputs": [
        {
          "output_type": "stream",
          "name": "stdout",
          "text": [
            "Choice(finish_reason=None, index=0, message=ChatCompletionMessage(content='The image shows a tranquil natural scene with a wooden boardwalk extending through a lush green meadow or wetland area. Tall grasses flank the boardwalk on both sides, and various shrubs and trees can be seen in the distance. The sky is mostly blue with scattered clouds, indicating nice weather. This setting looks like a protected natural area, possibly a nature reserve or park, offering a peaceful place for a walk or a moment of quiet contemplation. The bright colors and the lighting suggest that the photo may have been taken on a clear day, with the sun possibly starting to descend towards the horizon, creating soft shadows on the boardwalk.', role='assistant', function_call=None, tool_calls=None), finish_details={'type': 'stop', 'stop': '<|fim_suffix|>'})\n"
          ]
        }
      ]
    },
    {
      "cell_type": "markdown",
      "source": [
        "### Digital Invoice"
      ],
      "metadata": {
        "id": "BsJsFzFXkYRX"
      }
    },
    {
      "cell_type": "code",
      "source": [
        "response = client.chat.completions.create(\n",
        "    model=\"gpt-4-vision-preview\",\n",
        "    messages=[\n",
        "        {\n",
        "            \"role\": \"user\",\n",
        "            \"content\": [\n",
        "                {\"type\": \"text\", \"text\": \"This is an Invoice. Give the contents of the invoice in Key Value Pairs\"},\n",
        "                {\n",
        "                    \"type\": \"image_url\",\n",
        "                    \"image_url\": \"https://marketplace.canva.com/EAFC1OcYOM0/2/0/1131w/canva-black-white-minimalist-simple-creative-freelancer-invoice-pyLVaYlAk1o.jpg\",\n",
        "                },\n",
        "            ],\n",
        "        }\n",
        "    ],\n",
        "    max_tokens=500,\n",
        ")"
      ],
      "metadata": {
        "id": "rO3i3FMzkrWT"
      },
      "execution_count": 7,
      "outputs": []
    },
    {
      "cell_type": "code",
      "source": [
        "print(response.choices[0].message.content)"
      ],
      "metadata": {
        "colab": {
          "base_uri": "https://localhost:8080/"
        },
        "id": "vft3BDDzkt8J",
        "outputId": "1d4f4e87-9b1a-42da-8122-9523b21316a3"
      },
      "execution_count": 8,
      "outputs": [
        {
          "output_type": "stream",
          "name": "stdout",
          "text": [
            "Certainly. Here are the contents of the invoice in key-value pairs:\n",
            "\n",
            "- Invoice Number: #1024\n",
            "- BILLED TO: Really Great Company\n",
            "- PAY TO: Avery Davis\n",
            "- Address: 123 Anywhere St., Any City\n",
            "- Phone Number: 123-456-7890\n",
            "- Bank: Really Great Bank\n",
            "- Account Name: John Smith\n",
            "- BSB: 000-000\n",
            "- Account Number: 0000 0000\n",
            "\n",
            "DESCRIPTIONS:\n",
            "- Content Plan - Rate: $50/hr, Hours: 4, Amount: $200.00\n",
            "- Copy Writing - Rate: $50/hr, Hours: 2, Amount: $100.00\n",
            "- Website Design - Rate: $50/hr, Hours: 5, Amount: $250.00\n",
            "- Website Development - Rate: $100/hr, Hours: 5, Amount: $500.00\n",
            "- SEO - Rate: $50/hr, Hours: 4, Amount: $200.00\n",
            "\n",
            "SUMMARY:\n",
            "- Sub-Total: $1,250.00\n",
            "- Package Discount (30%): -$375.00\n",
            "- TOTAL: $875.00\n",
            "\n",
            "Additional Information:\n",
            "- Payment Terms: Payment is required within 14 business days of invoice date.\n",
            "- Payment Instructions: Please send remittance to hello@reallygreatsite.com.\n",
            "\n",
            "Closing Statement:\n",
            "- Thank you for your business.\n"
          ]
        }
      ]
    },
    {
      "cell_type": "markdown",
      "source": [
        "### Handwritten Invoice"
      ],
      "metadata": {
        "id": "z7crUx_IkSJf"
      }
    },
    {
      "cell_type": "code",
      "source": [
        "response = client.chat.completions.create(\n",
        "    model=\"gpt-4-vision-preview\",\n",
        "    messages=[\n",
        "        {\n",
        "            \"role\": \"user\",\n",
        "            \"content\": [\n",
        "                {\"type\": \"text\", \"text\": \"This is a handwritten Invoice. Extract the details and give the contents of the invoice in Key Value Pairs\"},\n",
        "                {\n",
        "                    \"type\": \"image_url\",\n",
        "                    \"image_url\": \"https://i0.wp.com/yummraj.com/wp-content/uploads/2016/05/img_5244.jpg?resize=720%2C960&ssl=1\",\n",
        "                },\n",
        "            ],\n",
        "        }\n",
        "    ],\n",
        "    max_tokens=500,\n",
        ")"
      ],
      "metadata": {
        "id": "l7KiaU_HkuUz"
      },
      "execution_count": 9,
      "outputs": []
    },
    {
      "cell_type": "code",
      "source": [
        "print(response.choices[0].message.content)"
      ],
      "metadata": {
        "colab": {
          "base_uri": "https://localhost:8080/"
        },
        "id": "kspJeVJqkxbX",
        "outputId": "6d068609-6a85-4c7b-b018-b28ed81a3864"
      },
      "execution_count": 10,
      "outputs": [
        {
          "output_type": "stream",
          "name": "stdout",
          "text": [
            "The image shows a handwritten invoice with the following details in key-value pairs. Please note that the handwriting is a bit difficult to decipher, and the descriptions of the items are abbreviated, possibly due to being colloquial or shorthand:\n",
            "\n",
            "- Date: The date is not fully visible in the image.\n",
            "- No. (Invoice Number): The full number is not visible but ends in \"082\".\n",
            "\n",
            "Item Descriptions and Prices:\n",
            "- 2SLD: Rs. 120\n",
            "- 1FLS: Rs. 100\n",
            "- 1Beer: Rs. 150\n",
            "- 1MSP: Rs. 650\n",
            "- 1MDH: Rs. 550\n",
            "- 1MGT: Rs. 350\n",
            "- 1FP: Rs. 700\n",
            "\n",
            "Subtotals and Totals:\n",
            "- Subtotal (Line 158): Rs. 2620\n",
            "- Line 158 (possibly a service charge or additional fee): Rs. 500\n",
            "- Line 158 (another charge or adjustment): Rs. 300\n",
            "- Total: Rs. 3420\n",
            "\n",
            "Stamps and Notes:\n",
            "- The invoice is stamped \"PAID\".\n",
            "- It has a thank you note at the end.\n",
            "\n",
            "Additional information:\n",
            "- TIN No.: 27780060435 W.e.f. 1.04.2006\n",
            "- The rates are inclusive of V.A.T. Tax.\n",
            "\n",
            "The individual items cannot be precisely described due to the shorthand writing, and specific details like the date and invoice number are partially obscured.\n"
          ]
        }
      ]
    },
    {
      "cell_type": "markdown",
      "source": [
        "### Handwritten Bill"
      ],
      "metadata": {
        "id": "q41DCQv_jRWs"
      }
    },
    {
      "cell_type": "code",
      "source": [
        "response = client.chat.completions.create(\n",
        "    model=\"gpt-4-vision-preview\",\n",
        "    messages=[\n",
        "        {\n",
        "            \"role\": \"user\",\n",
        "            \"content\": [\n",
        "                {\"type\": \"text\", \"text\": \"This is a handwritten Invoice. Extract the details and give the contents of the invoice in Key Value Pairs\"},\n",
        "                {\n",
        "                    \"type\": \"image_url\",\n",
        "                    \"image_url\": \"https://media-cdn.tripadvisor.com/media/photo-s/12/d5/57/53/handwritten-receipt.jpg\",\n",
        "                },\n",
        "            ],\n",
        "        }\n",
        "    ],\n",
        "    max_tokens=500,\n",
        ")"
      ],
      "metadata": {
        "id": "T3IRzTKAkyjL"
      },
      "execution_count": 11,
      "outputs": []
    },
    {
      "cell_type": "code",
      "source": [
        "print(response.choices[0].message.content)"
      ],
      "metadata": {
        "colab": {
          "base_uri": "https://localhost:8080/"
        },
        "id": "smM-sAVEk0JG",
        "outputId": "14fab4dd-1f9f-476e-e87c-9f95f91d00ba"
      },
      "execution_count": 12,
      "outputs": [
        {
          "output_type": "stream",
          "name": "stdout",
          "text": [
            "The contents of the invoice are as follows:\n",
            "\n",
            "- 1 Pc. - 10,00\n",
            "- 1 Mojo - 20,00\n",
            "- 1/2 Mo'jo pane - 60,00\n",
            "- One bottle beer - 20,00\n",
            "- Zautlolk - 20,00\n",
            "- Zautlook - 20,00\n",
            "- 1 Sadtoc Mocca - 20,00\n",
            "- 1 Somdis koffi - 35,00\n",
            "- 1 Pouletkitt - 35,00\n",
            "- 1 ProseittKitta - 35,00\n",
            "\n",
            "Total: 245,00\n"
          ]
        }
      ]
    },
    {
      "cell_type": "markdown",
      "source": [
        "### Tilted Invoice"
      ],
      "metadata": {
        "id": "C0lJhBUOjKwl"
      }
    },
    {
      "cell_type": "code",
      "source": [
        "response = client.chat.completions.create(\n",
        "    model=\"gpt-4-vision-preview\",\n",
        "    messages=[\n",
        "        {\n",
        "            \"role\": \"user\",\n",
        "            \"content\": [\n",
        "                {\"type\": \"text\", \"text\": \"This is a tilted Invoice Image. Extract the details and give the contents of the invoice in Key Value Pairs\"},\n",
        "                {\n",
        "                    \"type\": \"image_url\",\n",
        "                    \"image_url\": \"https://uploads-ssl.webflow.com/61483abeb7f7db7cfd071697/614d758587c3947453c4ceb1_formextractor-behind-the-scenes-1.png\",\n",
        "                },\n",
        "            ],\n",
        "        }\n",
        "    ],\n",
        "    max_tokens=500,\n",
        ")"
      ],
      "metadata": {
        "id": "X51A-8Mpk1kQ"
      },
      "execution_count": 13,
      "outputs": []
    },
    {
      "cell_type": "code",
      "source": [
        "print(response.choices[0].message.content)"
      ],
      "metadata": {
        "colab": {
          "base_uri": "https://localhost:8080/"
        },
        "id": "BliZi9Ijk3WS",
        "outputId": "4a447cdd-f7c4-4ada-f572-76bec989b48b"
      },
      "execution_count": 14,
      "outputs": [
        {
          "output_type": "stream",
          "name": "stdout",
          "text": [
            "Certainly! Based on the image provided, here are the contents of the two invoices presented in key-value pairs.\n",
            "\n",
            "### Invoice from Lemonade RTCC\n",
            "\n",
            "- **Date**: 9/19/2019\n",
            "- **Time**: 12:11\n",
            "- **Location**: Lemonade RTCC, 3601 Trousdale Pkwy\n",
            "- **Phone**: (213) 821-3491\n",
            "- **Check**: 40130066\n",
            "- **Server**: Yasmin\n",
            "- **Terminal**: 4013\n",
            "- **Order Number**: 199092\n",
            "\n",
            "**Order Items:**\n",
            "- 1 Mrkt Plate Port: $3.25\n",
            "- 1 Truffle Mac n Chs: $5.50\n",
            "- 1 LEM. Lemonade: $3.50\n",
            "\n",
            "**Totals:**\n",
            "- Subtotal: $12.25\n",
            "- Tax: $1.16\n",
            "- Total: $13.41\n",
            "\n",
            "### Invoice from Seeds Marketplace RTCC\n",
            "\n",
            "- **Date**: 9/19/2019\n",
            "- **Time**: 12:57\n",
            "- **Location**: Seeds Marketplace RTCC, 3607 Trousdale Pkwy\n",
            "- **Phone**: (213) 821-3481\n",
            "- **Check**: 39011480\n",
            "- **Server**: Rosalba\n",
            "- **Terminal**: 3901\n",
            "- **Order Number**: 699444\n",
            "\n",
            "**Order Items:**\n",
            "- Seeds Salad: $9.99\n",
            "- Protein: $2.49\n",
            "- Pellegrino: $2.99\n",
            "\n",
            "**Totals:**\n",
            "- Subtotal: $12.48\n",
            "- Tax: $1.19\n",
            "- Total: $13.67\n",
            "\n",
            "Please note that some of the contents might be slightly obscured by the angle and overlap of the invoices, leading to potential inaccuracies in some of the figures or text transcriptions.\n"
          ]
        }
      ]
    }
  ]
}